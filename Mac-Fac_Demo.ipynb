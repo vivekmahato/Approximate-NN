{
 "cells": [
  {
   "cell_type": "code",
   "execution_count": null,
   "outputs": [],
   "source": [
    "import numpy as np\n",
    "from MFModels import AnnoyClassifier, HNSWClassifier\n",
    "from sklearn.model_selection import train_test_split, GridSearchCV\n",
    "from sklearn.metrics import accuracy_score"
   ],
   "metadata": {
    "collapsed": false,
    "pycharm": {
     "name": "#%%\n"
    }
   }
  },
  {
   "cell_type": "code",
   "execution_count": null,
   "outputs": [],
   "source": [
    "data = np.load(\"data/plarge300.npy\", allow_pickle=True).item()\n",
    "X_train, X_test, y_train, y_test = train_test_split(data[\"X\"], data[\"y\"], test_size=0.5, random_state=1992)"
   ],
   "metadata": {
    "collapsed": false,
    "pycharm": {
     "name": "#%%\n"
    }
   }
  },
  {
   "cell_type": "code",
   "execution_count": 4,
   "outputs": [
    {
     "name": "stdout",
     "text": [
      "Best Parameters:  {'n_neighbors': 7}\nBest Accuracy:  0.82\n"
     ],
     "output_type": "stream"
    }
   ],
   "source": [
    "param_grid = {\n",
    "    \"n_neighbors\": np.arange(1, 11, 2)\n",
    "}\n",
    "print(param_grid)\n",
    "\n",
    "annoy = AnnoyClassifier(random_seed=1992)\n",
    "gscv = GridSearchCV(annoy, param_grid, cv=10, scoring=\"accuracy\", n_jobs=-1)\n",
    "gscv = gscv.fit(X_train,y_train)\n",
    "\n",
    "best_param = gscv.best_params_\n",
    "best_score = gscv.best_score_\n",
    "\n",
    "print(\"Best Parameters: \", best_param)\n",
    "print(\"Best Accuracy: \", best_score)"
   ],
   "metadata": {
    "collapsed": false,
    "pycharm": {
     "name": "#%%\n",
     "is_executing": false
    }
   }
  },
  {
   "cell_type": "code",
   "execution_count": 5,
   "outputs": [
    {
     "name": "stdout",
     "text": [
      "Model accuracy w/o Mac-Fac:  0.78\n"
     ],
     "output_type": "stream"
    }
   ],
   "source": [
    "annoy = AnnoyClassifier(**best_param,random_seed=1992).fit(X_train,y_train)\n",
    "y_hat = annoy.predict(X_test)\n",
    "acc = accuracy_score(y_test,y_hat)\n",
    "print(\"Model accuracy w/o Mac-Fac: \", round(acc, 2))"
   ],
   "metadata": {
    "collapsed": false,
    "pycharm": {
     "name": "#%%\n",
     "is_executing": false
    }
   }
  },
  {
   "cell_type": "code",
   "execution_count": 6,
   "outputs": [],
   "source": [
    "radii = np.arange(1,11,2)\n",
    "param_grid = {\n",
    "    \"n_neighbors\": np.arange(1, 11, 2),\n",
    "    \"mac_neighbors\": np.arange(10, 50, 5),\n",
    "    'sakoe_chiba_radius': np.arange(1, 11, 2)\n",
    "\n",
    "}"
   ],
   "metadata": {
    "collapsed": false,
    "pycharm": {
     "name": "#%%\n",
     "is_executing": false
    }
   }
  },
  {
   "cell_type": "code",
   "execution_count": 7,
   "outputs": [
    {
     "name": "stdout",
     "text": [
      "Best Parameters:  {'mac_neighbors': 30, 'n_neighbors': 7, 'sakoe_chiba_radius': 9}\nBest Accuracy:  0.8333333333333333\n"
     ],
     "output_type": "stream"
    }
   ],
   "source": [
    "annoy = AnnoyClassifier(random_seed=1992)\n",
    "gscv = GridSearchCV(annoy, param_grid, cv=10, scoring=\"accuracy\", n_jobs=-1)\n",
    "gscv = gscv.fit(X_train, y_train)\n",
    "\n",
    "best_param = gscv.best_params_\n",
    "best_score = gscv.best_score_\n",
    "\n",
    "print(\"Best Parameters: \", best_param)\n",
    "print(\"Best Accuracy: \", best_score)"
   ],
   "metadata": {
    "collapsed": false,
    "pycharm": {
     "name": "#%%\n",
     "is_executing": false
    }
   }
  },
  {
   "cell_type": "code",
   "execution_count": 8,
   "outputs": [
    {
     "name": "stdout",
     "text": [
      "Model accuracy w/ Mac-Fac:  0.8\n"
     ],
     "output_type": "stream"
    }
   ],
   "source": [
    "annoy = AnnoyClassifier(**best_param,random_seed=1992).fit(X_train,y_train)\n",
    "y_hat = annoy.predict(X_test)\n",
    "acc = accuracy_score(y_test, y_hat)\n",
    "print(\"Model accuracy w/ Mac-Fac: \", round(acc, 2))"
   ],
   "metadata": {
    "collapsed": false,
    "pycharm": {
     "name": "#%%\n",
     "is_executing": false
    }
   }
  },
  {
   "cell_type": "code",
   "execution_count": null,
   "outputs": [],
   "source": [
    "\n"
   ],
   "metadata": {
    "collapsed": false,
    "pycharm": {
     "name": "#%%\n"
    }
   }
  }
 ],
 "metadata": {
  "kernelspec": {
   "display_name": "Python 3",
   "language": "python",
   "name": "python3"
  },
  "language_info": {
   "codemirror_mode": {
    "name": "ipython",
    "version": 2
   },
   "file_extension": ".py",
   "mimetype": "text/x-python",
   "name": "python",
   "nbconvert_exporter": "python",
   "pygments_lexer": "ipython2",
   "version": "2.7.6"
  },
  "pycharm": {
   "stem_cell": {
    "cell_type": "raw",
    "source": [],
    "metadata": {
     "collapsed": false
    }
   }
  }
 },
 "nbformat": 4,
 "nbformat_minor": 0
}